{
  "nbformat": 4,
  "nbformat_minor": 0,
  "metadata": {
    "colab": {
      "provenance": [],
      "authorship_tag": "ABX9TyMB9DmKLviQF61WR64LIkyM",
      "include_colab_link": true
    },
    "kernelspec": {
      "name": "python3",
      "display_name": "Python 3"
    },
    "language_info": {
      "name": "python"
    }
  },
  "cells": [
    {
      "cell_type": "markdown",
      "metadata": {
        "id": "view-in-github",
        "colab_type": "text"
      },
      "source": [
        "<a href=\"https://colab.research.google.com/github/Ridjutsabit85/KKA-X-Semester-1/blob/main/1_Fungsi_print_Ridju_Ahmad_Najmi_Tsabit_X_10.ipynb\" target=\"_parent\"><img src=\"https://colab.research.google.com/assets/colab-badge.svg\" alt=\"Open In Colab\"/></a>"
      ]
    },
    {
      "cell_type": "markdown",
      "source": [
        "#Menampilkan teks bebas"
      ],
      "metadata": {
        "id": "cWSB6tI0V8VT"
      }
    },
    {
      "cell_type": "code",
      "source": [
        "print (\"Ridju Ahmad Najmi Tsabit\")"
      ],
      "metadata": {
        "colab": {
          "base_uri": "https://localhost:8080/"
        },
        "id": "qtruMPDbVzyc",
        "outputId": "7c9177f8-7e51-4508-a7b4-4460711a47f7"
      },
      "execution_count": null,
      "outputs": [
        {
          "output_type": "stream",
          "name": "stdout",
          "text": [
            "Ridju Ahmad Najmi Tsabit\n"
          ]
        }
      ]
    },
    {
      "cell_type": "code",
      "source": [
        "nama=\"Ridju Ahmad Najmi Tsabit\""
      ],
      "metadata": {
        "id": "A7p2EMzyV_XE"
      },
      "execution_count": null,
      "outputs": []
    },
    {
      "cell_type": "markdown",
      "source": [
        "#Menampilkan nilai variabel"
      ],
      "metadata": {
        "id": "p1wgZtVJWfHe"
      }
    },
    {
      "cell_type": "code",
      "source": [
        "Usia = \"15\"\n",
        "print (Usia)"
      ],
      "metadata": {
        "colab": {
          "base_uri": "https://localhost:8080/"
        },
        "id": "XHJB9OJi37dc",
        "outputId": "9477138b-3e88-4b77-c3e5-37fe55d65c00"
      },
      "execution_count": null,
      "outputs": [
        {
          "output_type": "stream",
          "name": "stdout",
          "text": [
            "15\n"
          ]
        }
      ]
    },
    {
      "cell_type": "code",
      "source": [
        "mataPelajaranFavorit = \"PPKN\"\n",
        "print (mataPelajaranFavorit)"
      ],
      "metadata": {
        "colab": {
          "base_uri": "https://localhost:8080/"
        },
        "id": "0vNpcLBpB7Px",
        "outputId": "26a863f8-7b2c-4b0e-8ba3-0df55d27f709"
      },
      "execution_count": null,
      "outputs": [
        {
          "output_type": "stream",
          "name": "stdout",
          "text": [
            "PPKN\n"
          ]
        }
      ]
    },
    {
      "cell_type": "markdown",
      "source": [
        "#menampilkan teks bebas dan nilai variabel"
      ],
      "metadata": {
        "id": "QQ6sPP7TXgpy"
      }
    },
    {
      "cell_type": "code",
      "source": [
        "namaSaudara=\"Pratama\"\n",
        "print(namaSaudara+namaSaudara)"
      ],
      "metadata": {
        "colab": {
          "base_uri": "https://localhost:8080/"
        },
        "id": "zHxaRUZsXRR8",
        "outputId": "1dd41c21-4969-4eb8-87ef-9f1873d01acd"
      },
      "execution_count": null,
      "outputs": [
        {
          "output_type": "stream",
          "name": "stdout",
          "text": [
            "PratamaPratama\n"
          ]
        }
      ]
    },
    {
      "cell_type": "code",
      "source": [
        "nama_panggilan_siswa = \"ridju\"\n",
        "print(\"Nama panggilan siswa tersebut adalah\",nama_panggilan_siswa)"
      ],
      "metadata": {
        "id": "0RNsscvFCT_z",
        "colab": {
          "base_uri": "https://localhost:8080/"
        },
        "outputId": "43a9c3d2-e145-408e-cb0c-276359fa13b5"
      },
      "execution_count": null,
      "outputs": [
        {
          "output_type": "stream",
          "name": "stdout",
          "text": [
            "Nama panggilan siswa tersebut adalah ridju\n"
          ]
        }
      ]
    },
    {
      "cell_type": "code",
      "source": [
        "print(f\"nama panggilan tersebut adalah {nama_panggilan_siswa} loh\")"
      ],
      "metadata": {
        "colab": {
          "base_uri": "https://localhost:8080/"
        },
        "id": "CEktqtfZCyFX",
        "outputId": "20f0d502-8a78-465d-b307-1a0997b2f833"
      },
      "execution_count": null,
      "outputs": [
        {
          "output_type": "stream",
          "name": "stdout",
          "text": [
            "nama panggilan tersebut adalah ridju loh\n"
          ]
        }
      ]
    },
    {
      "cell_type": "code",
      "source": [
        "nama = \"Ridju Ahmad Najmi Tsabit\"\n",
        "print(nama)"
      ],
      "metadata": {
        "colab": {
          "base_uri": "https://localhost:8080/"
        },
        "id": "uR0ZfZ2170yc",
        "outputId": "45a07184-7488-4ade-f713-f2d248a2ad21"
      },
      "execution_count": null,
      "outputs": [
        {
          "output_type": "stream",
          "name": "stdout",
          "text": [
            "Ridju Ahmad Najmi Tsabit\n"
          ]
        }
      ]
    },
    {
      "cell_type": "code",
      "source": [
        "Usia = \"15\"\n",
        "print(Usia)"
      ],
      "metadata": {
        "colab": {
          "base_uri": "https://localhost:8080/"
        },
        "id": "EOIowyBe8FvP",
        "outputId": "bca08b31-bd7d-4690-ca7a-326ac721f259"
      },
      "execution_count": null,
      "outputs": [
        {
          "output_type": "stream",
          "name": "stdout",
          "text": [
            "15\n"
          ]
        }
      ]
    },
    {
      "cell_type": "markdown",
      "source": [
        "#3 Menampilkan teks bebas dan nilai variabel"
      ],
      "metadata": {
        "id": "qSmu-dsk4-eA"
      }
    },
    {
      "cell_type": "code",
      "source": [
        "print(\"Halo perkenalkan nama saya\", nama, \"usia saya\",Usia,\"tahun.\")"
      ],
      "metadata": {
        "id": "Y5w4nz57GHOv",
        "colab": {
          "base_uri": "https://localhost:8080/",
          "height": 228
        },
        "outputId": "46371488-4339-47fc-96bb-e69332a3d3a0"
      },
      "execution_count": null,
      "outputs": [
        {
          "output_type": "error",
          "ename": "NameError",
          "evalue": "name 'nama' is not defined",
          "traceback": [
            "\u001b[0;31m---------------------------------------------------------------------------\u001b[0m",
            "\u001b[0;31mNameError\u001b[0m                                 Traceback (most recent call last)",
            "\u001b[0;32m/tmp/ipython-input-3850660100.py\u001b[0m in \u001b[0;36m<cell line: 0>\u001b[0;34m()\u001b[0m\n\u001b[0;32m----> 1\u001b[0;31m \u001b[0mprint\u001b[0m\u001b[0;34m(\u001b[0m\u001b[0;34m\"Halo perkenalkan nama saya\"\u001b[0m\u001b[0;34m,\u001b[0m \u001b[0mnama\u001b[0m\u001b[0;34m,\u001b[0m \u001b[0;34m\"usia saya\"\u001b[0m\u001b[0;34m,\u001b[0m\u001b[0mUsia\u001b[0m\u001b[0;34m,\u001b[0m\u001b[0;34m\"tahun.\"\u001b[0m\u001b[0;34m)\u001b[0m\u001b[0;34m\u001b[0m\u001b[0;34m\u001b[0m\u001b[0m\n\u001b[0m",
            "\u001b[0;31mNameError\u001b[0m: name 'nama' is not defined"
          ]
        }
      ]
    },
    {
      "cell_type": "code",
      "source": [
        "print(\"nama saya \" + nama+\". usia saya \"+ str(Usia)+\"tahun.\")"
      ],
      "metadata": {
        "colab": {
          "base_uri": "https://localhost:8080/"
        },
        "id": "E9PF4u186CKZ",
        "outputId": "d455cd89-cb3f-42e0-da22-4180121b5821"
      },
      "execution_count": null,
      "outputs": [
        {
          "output_type": "error",
          "ename": "NameError",
          "evalue": "name 'nama' is not defined",
          "traceback": [
            "\u001b[0;31m---------------------------------------------------------------------------\u001b[0m",
            "\u001b[0;31mNameError\u001b[0m                                 Traceback (most recent call last)",
            "\u001b[0;32m/tmp/ipython-input-3372232605.py\u001b[0m in \u001b[0;36m<cell line: 0>\u001b[0;34m()\u001b[0m\n\u001b[0;32m----> 1\u001b[0;31m \u001b[0mprint\u001b[0m\u001b[0;34m(\u001b[0m\u001b[0;34m\"nama saya \"\u001b[0m \u001b[0;34m+\u001b[0m \u001b[0mnama\u001b[0m\u001b[0;34m+\u001b[0m\u001b[0;34m\". usia saya \"\u001b[0m\u001b[0;34m+\u001b[0m \u001b[0mstr\u001b[0m\u001b[0;34m(\u001b[0m\u001b[0mUsia\u001b[0m\u001b[0;34m)\u001b[0m\u001b[0;34m+\u001b[0m\u001b[0;34m\"tahun.\"\u001b[0m\u001b[0;34m)\u001b[0m\u001b[0;34m\u001b[0m\u001b[0;34m\u001b[0m\u001b[0m\n\u001b[0m",
            "\u001b[0;31mNameError\u001b[0m: name 'nama' is not defined"
          ]
        }
      ]
    },
    {
      "cell_type": "code",
      "source": [
        "print (f\"Halo nama saya {nama} Usia saya {usia}tahun\")"
      ],
      "metadata": {
        "colab": {
          "base_uri": "https://localhost:8080/",
          "height": 211
        },
        "id": "SX-P6F7eIjSa",
        "outputId": "e60344a1-7084-407c-926c-fac9c9a09843"
      },
      "execution_count": null,
      "outputs": [
        {
          "output_type": "error",
          "ename": "NameError",
          "evalue": "name 'nama' is not defined",
          "traceback": [
            "\u001b[0;31m---------------------------------------------------------------------------\u001b[0m",
            "\u001b[0;31mNameError\u001b[0m                                 Traceback (most recent call last)",
            "\u001b[0;32m/tmp/ipython-input-3372643321.py\u001b[0m in \u001b[0;36m<cell line: 0>\u001b[0;34m()\u001b[0m\n\u001b[0;32m----> 1\u001b[0;31m \u001b[0mprint\u001b[0m \u001b[0;34m(\u001b[0m\u001b[0;34mf\"Halo nama saya {nama} Usia saya {usia}tahun\"\u001b[0m\u001b[0;34m)\u001b[0m\u001b[0;34m\u001b[0m\u001b[0;34m\u001b[0m\u001b[0m\n\u001b[0m",
            "\u001b[0;31mNameError\u001b[0m: name 'nama' is not defined"
          ]
        }
      ]
    },
    {
      "cell_type": "markdown",
      "source": [
        "#Parameter fungsi print"
      ],
      "metadata": {
        "id": "FNMvOd4qW4NZ"
      }
    },
    {
      "cell_type": "code",
      "source": [
        "nama_siswa_1=\"ridju\"\n",
        "nama_siswa_2=\"Rafa\"\n",
        "print (nama_siswa_1)"
      ],
      "metadata": {
        "colab": {
          "base_uri": "https://localhost:8080/"
        },
        "id": "d7rPu7IEHXb5",
        "outputId": "d5161fa9-2c1e-4943-e30c-21c7d475354d"
      },
      "execution_count": null,
      "outputs": [
        {
          "output_type": "stream",
          "name": "stdout",
          "text": [
            "ridju\n"
          ]
        }
      ]
    },
    {
      "cell_type": "code",
      "source": [
        "print (nama_siswa_1,nama_siswa_2)"
      ],
      "metadata": {
        "colab": {
          "base_uri": "https://localhost:8080/"
        },
        "id": "1z9Cj6YyHx8Z",
        "outputId": "ed27abab-c8b8-4c1a-a28b-0bb2eaba6c2c"
      },
      "execution_count": null,
      "outputs": [
        {
          "output_type": "stream",
          "name": "stdout",
          "text": [
            "ridju Rafa\n"
          ]
        }
      ]
    },
    {
      "cell_type": "code",
      "source": [
        "print(nama_siswa_1,nama_siswa_2,nama_siswa_1,sep=\"*\")"
      ],
      "metadata": {
        "colab": {
          "base_uri": "https://localhost:8080/"
        },
        "id": "NySshzu9H6i7",
        "outputId": "b765ae20-64b7-48ef-845e-840d271fad95"
      },
      "execution_count": null,
      "outputs": [
        {
          "output_type": "stream",
          "name": "stdout",
          "text": [
            "ridju*Rafa*ridju\n"
          ]
        }
      ]
    },
    {
      "cell_type": "code",
      "source": [
        "print (nama_siswa_1,end=\"*\")\n",
        "print (nama_siswa_2)"
      ],
      "metadata": {
        "colab": {
          "base_uri": "https://localhost:8080/"
        },
        "id": "8DpDTYFNLPmx",
        "outputId": "7b4bbed9-f9a1-4d6d-d64c-89d271412ded"
      },
      "execution_count": null,
      "outputs": [
        {
          "output_type": "stream",
          "name": "stdout",
          "text": [
            "ridju*Rafa\n"
          ]
        }
      ]
    }
  ]
}